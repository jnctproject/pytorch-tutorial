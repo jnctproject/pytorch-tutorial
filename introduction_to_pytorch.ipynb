{
  "nbformat": 4,
  "nbformat_minor": 0,
  "metadata": {
    "colab": {
      "provenance": [],
      "gpuType": "T4",
      "authorship_tag": "ABX9TyP24wRTSSNwxG3avaq4BLQo",
      "include_colab_link": true
    },
    "kernelspec": {
      "name": "python3",
      "display_name": "Python 3"
    },
    "language_info": {
      "name": "python"
    },
    "accelerator": "GPU"
  },
  "cells": [
    {
      "cell_type": "markdown",
      "metadata": {
        "id": "view-in-github",
        "colab_type": "text"
      },
      "source": [
        "<a href=\"https://colab.research.google.com/github/jnctproject/pytorch-tutorial/blob/main/introduction_to_pytorch.ipynb\" target=\"_parent\"><img src=\"https://colab.research.google.com/assets/colab-badge.svg\" alt=\"Open In Colab\"/></a>"
      ]
    },
    {
      "cell_type": "code",
      "execution_count": 29,
      "metadata": {
        "id": "4mAr2bQErc2m"
      },
      "outputs": [],
      "source": [
        "import torch"
      ]
    },
    {
      "cell_type": "code",
      "source": [],
      "metadata": {
        "id": "3Yw0IEhHroqH"
      },
      "execution_count": 29,
      "outputs": []
    },
    {
      "cell_type": "code",
      "source": [
        "num=[[1,2,3,4],[5,6,7,8]]\n",
        "num"
      ],
      "metadata": {
        "colab": {
          "base_uri": "https://localhost:8080/"
        },
        "id": "jBDh2VdLwAgs",
        "outputId": "d158ca61-d136-4e0d-a81a-28b131c7bbf6"
      },
      "execution_count": 30,
      "outputs": [
        {
          "output_type": "execute_result",
          "data": {
            "text/plain": [
              "[[1, 2, 3, 4], [5, 6, 7, 8]]"
            ]
          },
          "metadata": {},
          "execution_count": 30
        }
      ]
    },
    {
      "cell_type": "code",
      "source": [
        "import numpy as np\n",
        "np1=np.random.rand(2,3,4)\n",
        "print(np1)\n",
        "np1.dtype\n"
      ],
      "metadata": {
        "colab": {
          "base_uri": "https://localhost:8080/"
        },
        "id": "01Ne9ysXwNK0",
        "outputId": "3b8df90b-d7bd-47a1-e0a8-bb14896135b2"
      },
      "execution_count": 31,
      "outputs": [
        {
          "output_type": "stream",
          "name": "stdout",
          "text": [
            "[[[0.38235685 0.0378906  0.12112253 0.64164205]\n",
            "  [0.04188866 0.63479285 0.64190664 0.68372172]\n",
            "  [0.87459291 0.85147943 0.1576104  0.67126068]]\n",
            "\n",
            " [[0.80348232 0.76769941 0.56464564 0.31642328]\n",
            "  [0.56981202 0.17765476 0.1600226  0.43508711]\n",
            "  [0.55369997 0.44495109 0.51351489 0.23416708]]]\n"
          ]
        },
        {
          "output_type": "execute_result",
          "data": {
            "text/plain": [
              "dtype('float64')"
            ]
          },
          "metadata": {},
          "execution_count": 31
        }
      ]
    },
    {
      "cell_type": "code",
      "source": [
        "tensor_2d=torch.rand(2,3,4)\n",
        "tensor_2d"
      ],
      "metadata": {
        "colab": {
          "base_uri": "https://localhost:8080/"
        },
        "id": "0zXjbyzCwdVz",
        "outputId": "37766234-9c03-46bc-eac8-00c7a19fdeac"
      },
      "execution_count": 32,
      "outputs": [
        {
          "output_type": "execute_result",
          "data": {
            "text/plain": [
              "tensor([[[0.7234, 0.2406, 0.4093, 0.9738],\n",
              "         [0.2052, 0.7404, 0.8668, 0.7421],\n",
              "         [0.1588, 0.6535, 0.0484, 0.2422]],\n",
              "\n",
              "        [[0.2096, 0.8402, 0.6172, 0.9814],\n",
              "         [0.8236, 0.3483, 0.9824, 0.1669],\n",
              "         [0.3462, 0.3699, 0.6995, 0.2854]]])"
            ]
          },
          "metadata": {},
          "execution_count": 32
        }
      ]
    },
    {
      "cell_type": "code",
      "source": [
        "tensor1=torch.tensor(np1)\n",
        "tensor1"
      ],
      "metadata": {
        "colab": {
          "base_uri": "https://localhost:8080/"
        },
        "id": "0s1lvgLIxVKL",
        "outputId": "7a9b4e7a-36d1-4daf-d133-07ca3ede8aee"
      },
      "execution_count": 33,
      "outputs": [
        {
          "output_type": "execute_result",
          "data": {
            "text/plain": [
              "tensor([[[0.3824, 0.0379, 0.1211, 0.6416],\n",
              "         [0.0419, 0.6348, 0.6419, 0.6837],\n",
              "         [0.8746, 0.8515, 0.1576, 0.6713]],\n",
              "\n",
              "        [[0.8035, 0.7677, 0.5646, 0.3164],\n",
              "         [0.5698, 0.1777, 0.1600, 0.4351],\n",
              "         [0.5537, 0.4450, 0.5135, 0.2342]]], dtype=torch.float64)"
            ]
          },
          "metadata": {},
          "execution_count": 33
        }
      ]
    },
    {
      "cell_type": "code",
      "source": [
        "import torch"
      ],
      "metadata": {
        "id": "cPJ67jKitJI7"
      },
      "execution_count": 34,
      "outputs": []
    },
    {
      "cell_type": "code",
      "source": [
        "tn1=torch.tensor([1,2,3,4,5])\n",
        "tn2=torch.tensor([6,7,8,9,10])\n",
        "print(tn1+tn2)"
      ],
      "metadata": {
        "colab": {
          "base_uri": "https://localhost:8080/"
        },
        "id": "QMSykP1ptnvi",
        "outputId": "7a8706dd-87d6-41a2-a694-263179785d03"
      },
      "execution_count": 35,
      "outputs": [
        {
          "output_type": "stream",
          "name": "stdout",
          "text": [
            "tensor([ 7,  9, 11, 13, 15])\n"
          ]
        }
      ]
    },
    {
      "cell_type": "code",
      "source": [
        "torch.add(tn1,tn2)"
      ],
      "metadata": {
        "colab": {
          "base_uri": "https://localhost:8080/"
        },
        "id": "bDnYm0b9uWOI",
        "outputId": "9fe2994d-6051-460d-f70b-57f7b098097f"
      },
      "execution_count": 36,
      "outputs": [
        {
          "output_type": "execute_result",
          "data": {
            "text/plain": [
              "tensor([ 7,  9, 11, 13, 15])"
            ]
          },
          "metadata": {},
          "execution_count": 36
        }
      ]
    },
    {
      "cell_type": "code",
      "source": [
        "torch.add(tn1,tn2)\n",
        "torch.sub(tn1,tn2)\n",
        "torch.mul(tn1,tn2)\n",
        "torch.div(tn1,tn2)\n",
        "torch.pow(tn1,tn2)\n",
        "torch.remainder(tn2,tn1)\n",
        "print(tn1)\n",
        "tn1.add(tn2)\n",
        "print(tn1)\n",
        "tn2\n",
        "tn1.add(tn2)\n",
        "tn2\n",
        "tn1"
      ],
      "metadata": {
        "colab": {
          "base_uri": "https://localhost:8080/"
        },
        "id": "sM9V9SEpzcKM",
        "outputId": "0e977502-8617-41c2-fef1-989df3cadfb9"
      },
      "execution_count": 37,
      "outputs": [
        {
          "output_type": "stream",
          "name": "stdout",
          "text": [
            "tensor([1, 2, 3, 4, 5])\n",
            "tensor([1, 2, 3, 4, 5])\n"
          ]
        },
        {
          "output_type": "execute_result",
          "data": {
            "text/plain": [
              "tensor([1, 2, 3, 4, 5])"
            ]
          },
          "metadata": {},
          "execution_count": 37
        }
      ]
    },
    {
      "cell_type": "code",
      "source": [
        "import torch\n",
        "import torch.nn as nn\n",
        "import torch.nn.functional as F"
      ],
      "metadata": {
        "id": "-5CIHgBcisnr"
      },
      "execution_count": 38,
      "outputs": []
    },
    {
      "cell_type": "code",
      "source": [
        "# create a class the inherites nn.module\n",
        "class Model(nn.Module):\n",
        "  def __init__(self, in_features=4, h1=8,h2=9, out_features=3):\n",
        "    super().__init__()\n",
        "    self.fc1=nn.Linear(in_features,h1)\n",
        "    self.fc2=nn.Linear(h1,h2)\n",
        "    self.out=nn.Linear(h2, out_features)\n",
        "\n",
        "\n",
        "  def forward(self,x):\n",
        "    x=F.relu(self.fc1(x))\n",
        "    x=F.relu(self.fc2(x))\n",
        "    x=self.out(x)\n",
        "    return x\n"
      ],
      "metadata": {
        "id": "AbfPF7odi5YQ"
      },
      "execution_count": 39,
      "outputs": []
    },
    {
      "cell_type": "code",
      "source": [
        "torch.manual_seed(41)\n",
        "model=Model()"
      ],
      "metadata": {
        "id": "WfiJfax-k3Di"
      },
      "execution_count": 40,
      "outputs": []
    },
    {
      "cell_type": "code",
      "source": [
        "import matplotlib.pyplot as plt\n",
        "import pandas as pd\n",
        "import numpy as np"
      ],
      "metadata": {
        "id": "0FqiYQGumRR1"
      },
      "execution_count": 41,
      "outputs": []
    },
    {
      "cell_type": "code",
      "source": [
        "url='iris.data'\n",
        "column=['sepal.length', 'sepal.width', 'petal.length', 'petal.width', 'variety']\n",
        "data = pd.read_csv(url,names=column)\n",
        "data['variety']=data['variety'].replace('Iris-setosa',0.0)\n",
        "data['variety']=data['variety'].replace('Iris-versicolor',1.0)\n",
        "data['variety']=data['variety'].replace('Iris-virginica',2.0)\n"
      ],
      "metadata": {
        "id": "RpRK4axDmmXK",
        "outputId": "959d8ed9-de22-4b00-f4cf-7082c22ffaf5",
        "colab": {
          "base_uri": "https://localhost:8080/"
        }
      },
      "execution_count": 42,
      "outputs": [
        {
          "output_type": "stream",
          "name": "stderr",
          "text": [
            "<ipython-input-42-0fe729fc4895>:6: FutureWarning: Downcasting behavior in `replace` is deprecated and will be removed in a future version. To retain the old behavior, explicitly call `result.infer_objects(copy=False)`. To opt-in to the future behavior, set `pd.set_option('future.no_silent_downcasting', True)`\n",
            "  data['variety']=data['variety'].replace('Iris-virginica',2.0)\n"
          ]
        }
      ]
    },
    {
      "cell_type": "code",
      "source": [
        "X=data.drop('variety',axis=1)\n",
        "y=data['variety']\n",
        "X=X.values\n",
        "y=y.values"
      ],
      "metadata": {
        "id": "Gysx35qcuIby"
      },
      "execution_count": 43,
      "outputs": []
    },
    {
      "cell_type": "code",
      "source": [
        "from sklearn.model_selection import train_test_split"
      ],
      "metadata": {
        "id": "aqOyKnIau2uh"
      },
      "execution_count": 44,
      "outputs": []
    },
    {
      "cell_type": "code",
      "source": [
        "X_train,X_test,y_train,y_test=train_test_split(X,y,test_size=0.2,random_state=41)"
      ],
      "metadata": {
        "id": "NCXSrrmR7rFs"
      },
      "execution_count": 45,
      "outputs": []
    },
    {
      "cell_type": "code",
      "source": [
        "X_train=torch.FloatTensor(X_train)\n",
        "X_test=torch.FloatTensor(X_test)\n",
        "y_train=torch.LongTensor(y_train)\n",
        "y_test=torch.LongTensor(y_test)"
      ],
      "metadata": {
        "id": "mD43yVen9SsU"
      },
      "execution_count": 46,
      "outputs": []
    },
    {
      "cell_type": "code",
      "source": [
        "criterion =nn.CrossEntropyLoss()\n",
        "optimizer=torch.optim.Adam(model.parameters(), lr=0.01)\n",
        "\n"
      ],
      "metadata": {
        "id": "y3njb3q5-KSc"
      },
      "execution_count": 47,
      "outputs": []
    },
    {
      "cell_type": "code",
      "source": [
        "epochs=100\n",
        "losses=[]\n",
        "for i in range(epochs):\n",
        "  y_pred=model.forward(X_train)\n",
        "\n",
        "  loss=criterion(y_pred,y_train)\n",
        "\n",
        "  losses.append(loss.detach().numpy())\n",
        "\n",
        "  if i%10 == 0:\n",
        "    print(f'Epoch:{i}and loss:{loss}')\n",
        "\n",
        "  optimizer.zero_grad()\n",
        "\n",
        "  loss.backward()\n",
        "\n",
        "  optimizer.step()\n",
        "\n",
        "\n"
      ],
      "metadata": {
        "id": "DK0LIfo4_XaS",
        "outputId": "d2c181b2-59c3-4c6c-b8d1-1cb0d7c7fcf7",
        "colab": {
          "base_uri": "https://localhost:8080/"
        }
      },
      "execution_count": 59,
      "outputs": [
        {
          "output_type": "stream",
          "name": "stdout",
          "text": [
            "Epoch:0and loss:0.0001655045780353248\n",
            "Epoch:10and loss:0.00016305370081681758\n",
            "Epoch:20and loss:0.00016064310329966247\n",
            "Epoch:30and loss:0.00015828559116926044\n",
            "Epoch:40and loss:0.00015597730816807598\n",
            "Epoch:50and loss:0.00015370038454420865\n",
            "Epoch:60and loss:0.0001514825999038294\n",
            "Epoch:70and loss:0.00014929918688721955\n",
            "Epoch:80and loss:0.00014716401346959174\n",
            "Epoch:90and loss:0.0001450602721888572\n"
          ]
        }
      ]
    },
    {
      "cell_type": "code",
      "source": [
        "plt.plot(range(epochs),losses)\n",
        "plt.ylabel(\"loss/error\")\n",
        "plt.xlabel('Epochs')"
      ],
      "metadata": {
        "id": "lb2BBtI2Cs-O",
        "outputId": "fa22c0df-1e8d-419d-f7da-f9ed00c508ea",
        "colab": {
          "base_uri": "https://localhost:8080/",
          "height": 467
        }
      },
      "execution_count": 61,
      "outputs": [
        {
          "output_type": "execute_result",
          "data": {
            "text/plain": [
              "Text(0.5, 0, 'Epochs')"
            ]
          },
          "metadata": {},
          "execution_count": 61
        },
        {
          "output_type": "display_data",
          "data": {
            "text/plain": [
              "<Figure size 640x480 with 1 Axes>"
            ],
            "image/png": "[encoded data removed]"
          },
          "metadata": {}
        }
      ]
    }
  ]
}