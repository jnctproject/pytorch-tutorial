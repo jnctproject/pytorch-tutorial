{
  "nbformat": 4,
  "nbformat_minor": 0,
  "metadata": {
    "colab": {
      "provenance": [],
      "gpuType": "T4",
      "authorship_tag": "ABX9TyP7oM/nf9EgM9xoDSCA/kPx",
      "include_colab_link": true
    },
    "kernelspec": {
      "name": "python3",
      "display_name": "Python 3"
    },
    "language_info": {
      "name": "python"
    },
    "accelerator": "GPU"
  },
  "cells": [
    {
      "cell_type": "markdown",
      "metadata": {
        "id": "view-in-github",
        "colab_type": "text"
      },
      "source": [
        "<a href=\"https://colab.research.google.com/github/jnctproject/pytorch-tutorial/blob/main/introduction_to_pytorch.ipynb\" target=\"_parent\"><img src=\"https://colab.research.google.com/assets/colab-badge.svg\" alt=\"Open In Colab\"/></a>"
      ]
    },
    {
      "cell_type": "code",
      "execution_count": 170,
      "metadata": {
        "id": "4mAr2bQErc2m"
      },
      "outputs": [],
      "source": [
        "import torch"
      ]
    },
    {
      "cell_type": "code",
      "source": [],
      "metadata": {
        "id": "3Yw0IEhHroqH"
      },
      "execution_count": 170,
      "outputs": []
    },
    {
      "cell_type": "code",
      "source": [
        "num=[[1,2,3,4],[5,6,7,8]]\n",
        "num"
      ],
      "metadata": {
        "colab": {
          "base_uri": "https://localhost:8080/"
        },
        "id": "jBDh2VdLwAgs",
        "outputId": "7b6cec22-f707-4b93-fd7d-e186bed853fd"
      },
      "execution_count": 171,
      "outputs": [
        {
          "output_type": "execute_result",
          "data": {
            "text/plain": [
              "[[1, 2, 3, 4], [5, 6, 7, 8]]"
            ]
          },
          "metadata": {},
          "execution_count": 171
        }
      ]
    },
    {
      "cell_type": "code",
      "source": [
        "import numpy as np\n",
        "np1=np.random.rand(2,3,4)\n",
        "print(np1)\n",
        "np1.dtype\n"
      ],
      "metadata": {
        "colab": {
          "base_uri": "https://localhost:8080/"
        },
        "id": "01Ne9ysXwNK0",
        "outputId": "498d7fd4-76da-480e-ecba-6d48db664a38"
      },
      "execution_count": 172,
      "outputs": [
        {
          "output_type": "stream",
          "name": "stdout",
          "text": [
            "[[[0.39547653 0.16230004 0.61018186 0.05752749]\n",
            "  [0.24208482 0.8555447  0.12518263 0.49689282]\n",
            "  [0.88124917 0.27979467 0.98083635 0.48624844]]\n",
            "\n",
            " [[0.62706953 0.01253671 0.79760921 0.79543375]\n",
            "  [0.55660965 0.51847054 0.31566188 0.29501627]\n",
            "  [0.18231798 0.58040087 0.64218364 0.95010458]]]\n"
          ]
        },
        {
          "output_type": "execute_result",
          "data": {
            "text/plain": [
              "dtype('float64')"
            ]
          },
          "metadata": {},
          "execution_count": 172
        }
      ]
    },
    {
      "cell_type": "code",
      "source": [
        "tensor_2d=torch.rand(2,3,4)\n",
        "tensor_2d"
      ],
      "metadata": {
        "colab": {
          "base_uri": "https://localhost:8080/"
        },
        "id": "0zXjbyzCwdVz",
        "outputId": "eb1f87f5-273c-4f7f-c1e2-aaef135f5cfd"
      },
      "execution_count": 173,
      "outputs": [
        {
          "output_type": "execute_result",
          "data": {
            "text/plain": [
              "tensor([[[0.3519, 0.5081, 0.8162, 0.8118],\n",
              "         [0.5446, 0.4520, 0.2566, 0.7457],\n",
              "         [0.7919, 0.1395, 0.1003, 0.1427]],\n",
              "\n",
              "        [[0.7036, 0.3414, 0.1708, 0.3938],\n",
              "         [0.3818, 0.8840, 0.7969, 0.9161],\n",
              "         [0.4084, 0.6379, 0.4457, 0.8163]]])"
            ]
          },
          "metadata": {},
          "execution_count": 173
        }
      ]
    },
    {
      "cell_type": "code",
      "source": [
        "tensor1=torch.tensor(np1)\n",
        "tensor1"
      ],
      "metadata": {
        "colab": {
          "base_uri": "https://localhost:8080/"
        },
        "id": "0s1lvgLIxVKL",
        "outputId": "190d7629-c8c7-4ee9-940d-04dea2a6d565"
      },
      "execution_count": 174,
      "outputs": [
        {
          "output_type": "execute_result",
          "data": {
            "text/plain": [
              "tensor([[[0.3955, 0.1623, 0.6102, 0.0575],\n",
              "         [0.2421, 0.8555, 0.1252, 0.4969],\n",
              "         [0.8812, 0.2798, 0.9808, 0.4862]],\n",
              "\n",
              "        [[0.6271, 0.0125, 0.7976, 0.7954],\n",
              "         [0.5566, 0.5185, 0.3157, 0.2950],\n",
              "         [0.1823, 0.5804, 0.6422, 0.9501]]], dtype=torch.float64)"
            ]
          },
          "metadata": {},
          "execution_count": 174
        }
      ]
    },
    {
      "cell_type": "code",
      "source": [
        "import torch"
      ],
      "metadata": {
        "id": "cPJ67jKitJI7"
      },
      "execution_count": 175,
      "outputs": []
    },
    {
      "cell_type": "code",
      "source": [
        "tn1=torch.tensor([1,2,3,4,5])\n",
        "tn2=torch.tensor([6,7,8,9,10])\n",
        "print(tn1+tn2)"
      ],
      "metadata": {
        "colab": {
          "base_uri": "https://localhost:8080/"
        },
        "id": "QMSykP1ptnvi",
        "outputId": "92fff140-7f9a-4775-8dcc-4549d6df7eff"
      },
      "execution_count": 176,
      "outputs": [
        {
          "output_type": "stream",
          "name": "stdout",
          "text": [
            "tensor([ 7,  9, 11, 13, 15])\n"
          ]
        }
      ]
    },
    {
      "cell_type": "code",
      "source": [
        "torch.add(tn1,tn2)"
      ],
      "metadata": {
        "colab": {
          "base_uri": "https://localhost:8080/"
        },
        "id": "bDnYm0b9uWOI",
        "outputId": "1489e032-8704-4a54-9355-288c87618ea4"
      },
      "execution_count": 177,
      "outputs": [
        {
          "output_type": "execute_result",
          "data": {
            "text/plain": [
              "tensor([ 7,  9, 11, 13, 15])"
            ]
          },
          "metadata": {},
          "execution_count": 177
        }
      ]
    },
    {
      "cell_type": "code",
      "source": [
        "torch.add(tn1,tn2)\n",
        "torch.sub(tn1,tn2)\n",
        "torch.mul(tn1,tn2)\n",
        "torch.div(tn1,tn2)\n",
        "torch.pow(tn1,tn2)\n",
        "torch.remainder(tn2,tn1)\n",
        "print(tn1)\n",
        "tn1.add(tn2)\n",
        "print(tn1)\n",
        "tn2\n",
        "tn1.add(tn2)\n",
        "tn2\n",
        "tn1"
      ],
      "metadata": {
        "colab": {
          "base_uri": "https://localhost:8080/"
        },
        "id": "sM9V9SEpzcKM",
        "outputId": "9b442e3d-f577-4c35-858e-49d5d510423f"
      },
      "execution_count": 178,
      "outputs": [
        {
          "output_type": "stream",
          "name": "stdout",
          "text": [
            "tensor([1, 2, 3, 4, 5])\n",
            "tensor([1, 2, 3, 4, 5])\n"
          ]
        },
        {
          "output_type": "execute_result",
          "data": {
            "text/plain": [
              "tensor([1, 2, 3, 4, 5])"
            ]
          },
          "metadata": {},
          "execution_count": 178
        }
      ]
    },
    {
      "cell_type": "code",
      "source": [
        "import torch\n",
        "import torch.nn as nn\n",
        "import torch.nn.functional as F"
      ],
      "metadata": {
        "id": "-5CIHgBcisnr"
      },
      "execution_count": 179,
      "outputs": []
    },
    {
      "cell_type": "code",
      "source": [
        "# create a class the inherites nn.module\n",
        "class Model(nn.Module):\n",
        "  def __init__(self, in_features=4, h1=8,h2=9, out_features=3):\n",
        "    super().__init__()\n",
        "    self.fc1=nn.Linear(in_features,h1)\n",
        "    self.fc2=nn.Linear(h1,h2)\n",
        "    self.out=nn.Linear(h2, out_features)\n",
        "\n",
        "\n",
        "  def forward(self,x):\n",
        "    x=F.relu(self.fc1(x))\n",
        "    x=F.relu(self.fc2(x))\n",
        "    x=self.out(x)\n",
        "    return x\n"
      ],
      "metadata": {
        "id": "AbfPF7odi5YQ"
      },
      "execution_count": 180,
      "outputs": []
    },
    {
      "cell_type": "code",
      "source": [
        "torch.manual_seed(31)\n",
        "model=Model()"
      ],
      "metadata": {
        "id": "WfiJfax-k3Di"
      },
      "execution_count": 181,
      "outputs": []
    },
    {
      "cell_type": "code",
      "source": [
        "import matplotlib.pyplot as plt\n",
        "import pandas as pd\n",
        "import numpy as np"
      ],
      "metadata": {
        "id": "0FqiYQGumRR1"
      },
      "execution_count": 182,
      "outputs": []
    },
    {
      "cell_type": "code",
      "source": [
        "url='iris.data'\n",
        "column=['sepal.length', 'sepal.width', 'petal.length', 'petal.width', 'variety']\n",
        "data = pd.read_csv(url,names=column)\n",
        "data['variety']=data['variety'].replace('Iris-setosa',0.0)\n",
        "data['variety']=data['variety'].replace('Iris-versicolor',1.0)\n",
        "data['variety']=data['variety'].replace('Iris-virginica',2.0)\n"
      ],
      "metadata": {
        "colab": {
          "base_uri": "https://localhost:8080/"
        },
        "id": "RpRK4axDmmXK",
        "outputId": "f1711bd6-91a9-4432-e837-670d2e64726f"
      },
      "execution_count": 183,
      "outputs": [
        {
          "output_type": "stream",
          "name": "stderr",
          "text": [
            "<ipython-input-183-0fe729fc4895>:6: FutureWarning: Downcasting behavior in `replace` is deprecated and will be removed in a future version. To retain the old behavior, explicitly call `result.infer_objects(copy=False)`. To opt-in to the future behavior, set `pd.set_option('future.no_silent_downcasting', True)`\n",
            "  data['variety']=data['variety'].replace('Iris-virginica',2.0)\n"
          ]
        }
      ]
    },
    {
      "cell_type": "code",
      "source": [
        "X=data.drop('variety',axis=1)\n",
        "y=data['variety']\n",
        "X=X.values\n",
        "y=y.values"
      ],
      "metadata": {
        "id": "Gysx35qcuIby"
      },
      "execution_count": 184,
      "outputs": []
    },
    {
      "cell_type": "code",
      "source": [
        "from sklearn.model_selection import train_test_split"
      ],
      "metadata": {
        "id": "aqOyKnIau2uh"
      },
      "execution_count": 185,
      "outputs": []
    },
    {
      "cell_type": "code",
      "source": [
        "X_train,X_test,y_train,y_test=train_test_split(X,y,test_size=0.2,random_state=41)"
      ],
      "metadata": {
        "id": "NCXSrrmR7rFs"
      },
      "execution_count": 186,
      "outputs": []
    },
    {
      "cell_type": "code",
      "source": [
        "X_train=torch.FloatTensor(X_train)\n",
        "X_test=torch.FloatTensor(X_test)\n",
        "y_train=torch.LongTensor(y_train)\n",
        "y_test=torch.LongTensor(y_test)"
      ],
      "metadata": {
        "id": "mD43yVen9SsU"
      },
      "execution_count": 187,
      "outputs": []
    },
    {
      "cell_type": "code",
      "source": [
        "criterion =nn.CrossEntropyLoss()\n",
        "optimizer=torch.optim.Adam(model.parameters(), lr=0.01)\n",
        "\n"
      ],
      "metadata": {
        "id": "y3njb3q5-KSc"
      },
      "execution_count": 188,
      "outputs": []
    },
    {
      "cell_type": "code",
      "source": [
        "epochs=200\n",
        "losses=[]\n",
        "for i in range(epochs):\n",
        "  y_pred=model.forward(X_train)\n",
        "\n",
        "  loss=criterion(y_pred,y_train)\n",
        "\n",
        "  losses.append(loss.detach().numpy())\n",
        "\n",
        "  if i%10 == 0:\n",
        "    print(f'Epoch:{i}and loss:{loss}')\n",
        "\n",
        "  optimizer.zero_grad()\n",
        "\n",
        "  loss.backward()\n",
        "\n",
        "  optimizer.step()\n",
        "\n",
        "\n"
      ],
      "metadata": {
        "colab": {
          "base_uri": "https://localhost:8080/"
        },
        "id": "DK0LIfo4_XaS",
        "outputId": "5a95b5fa-a0b4-482d-83b6-2facc3da5894"
      },
      "execution_count": 189,
      "outputs": [
        {
          "output_type": "stream",
          "name": "stdout",
          "text": [
            "Epoch:0and loss:1.0948584079742432\n",
            "Epoch:10and loss:0.9568084478378296\n",
            "Epoch:20and loss:0.7678928971290588\n",
            "Epoch:30and loss:0.5515527725219727\n",
            "Epoch:40and loss:0.40809521079063416\n",
            "Epoch:50and loss:0.32005006074905396\n",
            "Epoch:60and loss:0.2393576204776764\n",
            "Epoch:70and loss:0.16571614146232605\n",
            "Epoch:80and loss:0.11364854872226715\n",
            "Epoch:90and loss:0.08313100785017014\n",
            "Epoch:100and loss:0.0655067041516304\n",
            "Epoch:110and loss:0.05475948005914688\n",
            "Epoch:120and loss:0.04770264774560928\n",
            "Epoch:130and loss:0.0427081361413002\n",
            "Epoch:140and loss:0.038942500948905945\n",
            "Epoch:150and loss:0.03596850484609604\n",
            "Epoch:160and loss:0.03354065492749214\n",
            "Epoch:170and loss:0.03151104599237442\n",
            "Epoch:180and loss:0.029783686622977257\n",
            "Epoch:190and loss:0.02829156443476677\n"
          ]
        }
      ]
    },
    {
      "cell_type": "code",
      "source": [],
      "metadata": {
        "id": "8279uwvJGL0O"
      },
      "execution_count": 189,
      "outputs": []
    },
    {
      "cell_type": "code",
      "source": [
        "plt.plot(range(epochs),losses)\n",
        "plt.ylabel(\"loss/error\")\n",
        "plt.xlabel('Epochs')"
      ],
      "metadata": {
        "colab": {
          "base_uri": "https://localhost:8080/",
          "height": 467
        },
        "id": "lb2BBtI2Cs-O",
        "outputId": "74e03100-dfc4-4da3-a369-f81ad1c039a4"
      },
      "execution_count": 190,
      "outputs": [
        {
          "output_type": "execute_result",
          "data": {
            "text/plain": [
              "Text(0.5, 0, 'Epochs')"
            ]
          },
          "metadata": {},
          "execution_count": 190
        },
        {
          "output_type": "display_data",
          "data": {
            "text/plain": [
              "<Figure size 640x480 with 1 Axes>"
            ],
            "image/png": "[encoded data removed]"
          },
          "metadata": {}
        }
      ]
    },
    {
      "cell_type": "code",
      "source": [
        "#evaluation of model\n",
        "with torch.no_grad():\n",
        "  y_eval=model.forward(X_test)\n",
        "  loss=criterion(y_eval,y_test)\n",
        "  print(loss)\n"
      ],
      "metadata": {
        "colab": {
          "base_uri": "https://localhost:8080/"
        },
        "id": "B_zfAsHMErlD",
        "outputId": "876b000e-1f88-4a2c-8086-8cb5e638ac15"
      },
      "execution_count": 191,
      "outputs": [
        {
          "output_type": "stream",
          "name": "stdout",
          "text": [
            "tensor(0.1363)\n"
          ]
        }
      ]
    },
    {
      "cell_type": "code",
      "source": [
        "correct=0\n",
        "with torch.no_grad():\n",
        "  for i, data1 in enumerate(X_test):\n",
        "    y_val=model.forward(data1)\n",
        "    if y_test[i]==0:\n",
        "      x=\"Setosa\"\n",
        "    elif y_test[i]==1:\n",
        "      x='Versicolor'\n",
        "    else:\n",
        "      x='Virginica'\n",
        "    print(f'{i+1}.) {str(y_val)} \\t {x} \\t {y_val.argmax().item()}')\n",
        "  if y_val.argmax().item()==y_test[i]:\n",
        "    correct+=i\n",
        "  print(f'we got{correct} correct!')"
      ],
      "metadata": {
        "colab": {
          "base_uri": "https://localhost:8080/"
        },
        "id": "0zzxTVhdGNRM",
        "outputId": "312ce494-460f-4455-a544-8477eabe305f"
      },
      "execution_count": 198,
      "outputs": [
        {
          "output_type": "stream",
          "name": "stdout",
          "text": [
            "1.) tensor([-5.4013,  4.3628,  7.3335]) \t Virginica \t 2\n",
            "2.) tensor([-8.6373,  3.1316, 12.5649]) \t Virginica \t 2\n",
            "3.) tensor([-8.8933,  3.9954, 12.6991]) \t Virginica \t 2\n",
            "4.) tensor([-1.9279,  6.9743,  1.3429]) \t Versicolor \t 1\n",
            "5.) tensor([-7.2800,  4.3156, 10.1764]) \t Virginica \t 2\n",
            "6.) tensor([ 0.3150,  8.1136, -2.3662]) \t Versicolor \t 1\n",
            "7.) tensor([-5.0831,  5.0485,  6.6548]) \t Virginica \t 2\n",
            "8.) tensor([-1.9641,  7.1304,  1.3521]) \t Versicolor \t 1\n",
            "9.) tensor([-6.2308,  4.7166,  8.4797]) \t Virginica \t 2\n",
            "10.) tensor([-9.2837,  3.2919, 13.4918]) \t Virginica \t 2\n",
            "11.) tensor([-4.8730,  5.2407,  6.2825]) \t Virginica \t 2\n",
            "12.) tensor([ 14.1221,   7.3553, -21.7638]) \t Setosa \t 0\n",
            "13.) tensor([ 12.7362,   6.6815, -19.5971]) \t Setosa \t 0\n",
            "14.) tensor([ 2.0607,  7.0476, -4.5428]) \t Versicolor \t 1\n",
            "15.) tensor([ 13.1360,   7.3912, -20.3983]) \t Setosa \t 0\n",
            "16.) tensor([-4.2039,  5.6714,  5.1495]) \t Virginica \t 1\n",
            "17.) tensor([ 13.3649,   7.0076, -20.5881]) \t Setosa \t 0\n",
            "18.) tensor([-5.3371,  4.7349,  7.1286]) \t Versicolor \t 2\n",
            "19.) tensor([ 13.5415,   7.0730, -20.8560]) \t Setosa \t 0\n",
            "20.) tensor([ 11.9812,   6.3144, -18.4167]) \t Setosa \t 0\n",
            "21.) tensor([ 1.4447,  7.4675, -3.7876]) \t Versicolor \t 1\n",
            "22.) tensor([-8.4126,  3.8517, 12.0170]) \t Virginica \t 2\n",
            "23.) tensor([ 13.1504,   7.4332, -20.4309]) \t Setosa \t 0\n",
            "24.) tensor([ 13.3549,   6.9823, -20.5643]) \t Setosa \t 0\n",
            "25.) tensor([ 1.4396,  7.8320, -3.8858]) \t Versicolor \t 1\n",
            "26.) tensor([ 0.5701,  7.6802, -2.6044]) \t Versicolor \t 1\n",
            "27.) tensor([-2.3662,  7.0417,  1.9834]) \t Versicolor \t 1\n",
            "28.) tensor([ 0.8747,  7.8903, -3.0985]) \t Versicolor \t 1\n",
            "29.) tensor([ 13.8640,   7.2299, -21.3603]) \t Setosa \t 0\n",
            "30.) tensor([-2.4604,  6.6036,  2.2527]) \t Versicolor \t 1\n",
            "we got29 correct!\n"
          ]
        }
      ]
    },
    {
      "cell_type": "code",
      "source": [
        "new_iris=torch.tensor([5.6,2.3,4.5,6.8])\n",
        "with torch.no_grad():\n",
        "  print(model(new_iris))"
      ],
      "metadata": {
        "colab": {
          "base_uri": "https://localhost:8080/"
        },
        "id": "cMGr6uhtRAe3",
        "outputId": "2e84dcc6-43d2-475d-b2d9-0c88ee4e69b7"
      },
      "execution_count": 199,
      "outputs": [
        {
          "output_type": "stream",
          "name": "stdout",
          "text": [
            "tensor([-19.9882,   1.4542,  30.1645])\n"
          ]
        }
      ]
    },
    {
      "cell_type": "code",
      "source": [
        "#save our neural network\n"
      ],
      "metadata": {
        "id": "-zWL2SG1R4GT"
      },
      "execution_count": null,
      "outputs": []
    }
  ]
}