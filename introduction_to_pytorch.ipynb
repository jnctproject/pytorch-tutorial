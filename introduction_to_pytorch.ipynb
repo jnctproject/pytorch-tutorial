{
  "nbformat": 4,
  "nbformat_minor": 0,
  "metadata": {
    "colab": {
      "provenance": [],
      "gpuType": "T4",
      "authorship_tag": "ABX9TyP9dVCvWFEedKSBPaaILhXO",
      "include_colab_link": true
    },
    "kernelspec": {
      "name": "python3",
      "display_name": "Python 3"
    },
    "language_info": {
      "name": "python"
    },
    "accelerator": "GPU"
  },
  "cells": [
    {
      "cell_type": "markdown",
      "metadata": {
        "id": "view-in-github",
        "colab_type": "text"
      },
      "source": [
        "<a href=\"https://colab.research.google.com/github/jnctproject/pytorch-tutorial/blob/main/introduction_to_pytorch.ipynb\" target=\"_parent\"><img src=\"https://colab.research.google.com/assets/colab-badge.svg\" alt=\"Open In Colab\"/></a>"
      ]
    },
    {
      "cell_type": "code",
      "execution_count": 8,
      "metadata": {
        "id": "4mAr2bQErc2m"
      },
      "outputs": [],
      "source": [
        "import torch"
      ]
    },
    {
      "cell_type": "code",
      "source": [],
      "metadata": {
        "id": "3Yw0IEhHroqH"
      },
      "execution_count": 14,
      "outputs": []
    },
    {
      "cell_type": "code",
      "source": [
        "num=[[1,2,3,4],[5,6,7,8]]\n",
        "num"
      ],
      "metadata": {
        "colab": {
          "base_uri": "https://localhost:8080/"
        },
        "id": "jBDh2VdLwAgs",
        "outputId": "e9ceb0e0-b5c9-4cab-8d26-3de4d555cc9d"
      },
      "execution_count": 3,
      "outputs": [
        {
          "output_type": "execute_result",
          "data": {
            "text/plain": [
              "[[1, 2, 3, 4], [5, 6, 7, 8]]"
            ]
          },
          "metadata": {},
          "execution_count": 3
        }
      ]
    },
    {
      "cell_type": "code",
      "source": [
        "import numpy as np\n",
        "np1=np.random.rand(2,3,4)\n",
        "print(np1)\n",
        "np1.dtype\n"
      ],
      "metadata": {
        "colab": {
          "base_uri": "https://localhost:8080/"
        },
        "id": "01Ne9ysXwNK0",
        "outputId": "6d5a3940-17c8-4467-b157-0dead24b9345"
      },
      "execution_count": 17,
      "outputs": [
        {
          "output_type": "stream",
          "name": "stdout",
          "text": [
            "[[[0.70531176 0.40153133 0.87249702 0.65140318]\n",
            "  [0.79314474 0.17416709 0.0256722  0.58922013]\n",
            "  [0.38977658 0.57350804 0.56874678 0.72956139]]\n",
            "\n",
            " [[0.00685307 0.51200319 0.2665167  0.53215827]\n",
            "  [0.79775512 0.56057841 0.66681716 0.42823953]\n",
            "  [0.94842264 0.83313261 0.77665675 0.48722479]]]\n"
          ]
        },
        {
          "output_type": "execute_result",
          "data": {
            "text/plain": [
              "dtype('float64')"
            ]
          },
          "metadata": {},
          "execution_count": 17
        }
      ]
    },
    {
      "cell_type": "code",
      "source": [
        "tensor_2d=torch.rand(2,3,4)\n",
        "tensor_2d"
      ],
      "metadata": {
        "colab": {
          "base_uri": "https://localhost:8080/"
        },
        "id": "0zXjbyzCwdVz",
        "outputId": "e22877f6-1962-494f-ec4c-347e1990cfcc"
      },
      "execution_count": 13,
      "outputs": [
        {
          "output_type": "execute_result",
          "data": {
            "text/plain": [
              "tensor([[[0.1490, 0.3593, 0.2535, 0.0642],\n",
              "         [0.3213, 0.2426, 0.0144, 0.6011],\n",
              "         [0.0213, 0.5752, 0.4921, 0.2895]],\n",
              "\n",
              "        [[0.6427, 0.9734, 0.3088, 0.4435],\n",
              "         [0.2693, 0.3638, 0.3178, 0.7222],\n",
              "         [0.3399, 0.7269, 0.9737, 0.3921]]])"
            ]
          },
          "metadata": {},
          "execution_count": 13
        }
      ]
    },
    {
      "cell_type": "code",
      "source": [
        "tensor1=torch.tensor(np1)\n",
        "tensor1"
      ],
      "metadata": {
        "colab": {
          "base_uri": "https://localhost:8080/"
        },
        "id": "0s1lvgLIxVKL",
        "outputId": "f7f15ac5-d36a-4a8c-fe85-d2acf4bd2437"
      },
      "execution_count": 19,
      "outputs": [
        {
          "output_type": "execute_result",
          "data": {
            "text/plain": [
              "tensor([[[0.7053, 0.4015, 0.8725, 0.6514],\n",
              "         [0.7931, 0.1742, 0.0257, 0.5892],\n",
              "         [0.3898, 0.5735, 0.5687, 0.7296]],\n",
              "\n",
              "        [[0.0069, 0.5120, 0.2665, 0.5322],\n",
              "         [0.7978, 0.5606, 0.6668, 0.4282],\n",
              "         [0.9484, 0.8331, 0.7767, 0.4872]]], dtype=torch.float64)"
            ]
          },
          "metadata": {},
          "execution_count": 19
        }
      ]
    }
  ]
}